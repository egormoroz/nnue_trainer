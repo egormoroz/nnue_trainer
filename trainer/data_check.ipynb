{
 "cells": [
  {
   "cell_type": "code",
   "execution_count": 1,
   "id": "b74bb75f",
   "metadata": {},
   "outputs": [],
   "source": [
    "import ffi\n",
    "import numpy as np\n",
    "import matplotlib.pyplot as plt\n",
    "import chess\n",
    "from tqdm.auto import tqdm\n",
    "import numba"
   ]
  },
  {
   "cell_type": "code",
   "execution_count": 2,
   "id": "cea54d87",
   "metadata": {},
   "outputs": [],
   "source": [
    "ffi.load_module('../satpymod/build/Release/satpymod.dll')"
   ]
  },
  {
   "cell_type": "code",
   "execution_count": 3,
   "id": "8a85fe36",
   "metadata": {},
   "outputs": [],
   "source": [
    "pr = ffi.PackReader('data/d6nnv4.bin')"
   ]
  },
  {
   "cell_type": "code",
   "execution_count": 4,
   "id": "d343876c",
   "metadata": {},
   "outputs": [
    {
     "data": {
      "application/vnd.jupyter.widget-view+json": {
       "model_id": "a26f29d1ebbb4196b112a8322a414240",
       "version_major": 2,
       "version_minor": 0
      },
      "text/plain": [
       "  0%|          | 0/150000000 [00:00<?, ?it/s]"
      ]
     },
     "metadata": {},
     "output_type": "display_data"
    }
   ],
   "source": [
    "n = 150_000_000\n",
    "scores = np.empty(n, dtype=np.int16)\n",
    "results = np.empty(n, dtype=np.uint8)\n",
    "keys = np.empty(n, dtype=np.uint64)\n",
    "\n",
    "k = 0\n",
    "t = tqdm(total=n)\n",
    "while True:\n",
    "    scores[k] = pr.cur_score()\n",
    "    results[k] = pr.cur_result()\n",
    "    keys[k] = pr.cur_hash()\n",
    "    k += 1\n",
    "    t.update()\n",
    "\n",
    "    if not pr.next():\n",
    "        break\n",
    "\n",
    "t.close()\n",
    "scores = scores[:k]\n",
    "results = results[:k]\n",
    "keys = keys[:k]"
   ]
  },
  {
   "cell_type": "code",
   "execution_count": 5,
   "id": "4474af2d",
   "metadata": {},
   "outputs": [
    {
     "data": {
      "text/plain": [
       "0.8732053473355715"
      ]
     },
     "execution_count": 5,
     "metadata": {},
     "output_type": "execute_result"
    }
   ],
   "source": [
    "len(np.unique(keys)) / len(keys)"
   ]
  },
  {
   "cell_type": "code",
   "execution_count": 6,
   "id": "bc1ce6b5",
   "metadata": {},
   "outputs": [],
   "source": [
    "clipped = np.clip(scores, -2500, 2500)"
   ]
  },
  {
   "cell_type": "code",
   "execution_count": 7,
   "id": "616e1363",
   "metadata": {},
   "outputs": [
    {
     "data": {
      "text/plain": [
       "(array([  513106.,  5138266., 12257718.,  9586444., 40424239., 51248971.,\n",
       "        10871249., 13632752.,  5748656.,   578237.]),\n",
       " array([-2500., -2000., -1500., -1000.,  -500.,     0.,   500.,  1000.,\n",
       "         1500.,  2000.,  2500.]),\n",
       " <BarContainer object of 10 artists>)"
      ]
     },
     "execution_count": 7,
     "metadata": {},
     "output_type": "execute_result"
    },
    {
     "data": {
      "image/png": "[encoded data removed]",
      "text/plain": [
       "<Figure size 640x480 with 1 Axes>"
      ]
     },
     "metadata": {},
     "output_type": "display_data"
    }
   ],
   "source": [
    "plt.hist(clipped)"
   ]
  },
  {
   "cell_type": "code",
   "execution_count": 8,
   "id": "d2189d6f",
   "metadata": {},
   "outputs": [],
   "source": [
    "@numba.njit\n",
    "def wdl_for_score(score: np.ndarray, result: np.ndarray):\n",
    "    n = len(score)\n",
    "    smin, smax = score.min(), score.max()\n",
    "    acc = np.zeros(smax - smin + 1, dtype=np.int32)\n",
    "    counts = np.zeros(smax - smin + 1, dtype=np.int32)\n",
    "    remap_value = np.array([0, 2, 1])\n",
    "    for i in range(n):\n",
    "        acc[score[i] - smin] += remap_value[result[i]]\n",
    "        counts[score[i] - smin] += 1\n",
    "        \n",
    "    wdl = np.zeros(smax - smin + 1, dtype=np.float64)\n",
    "    for i in range(n):\n",
    "        idx = score[i] - smin\n",
    "        p, q = acc[idx], counts[idx]\n",
    "        wdl[idx] = p / (2 * q) if q != 0 else 0\n",
    "    \n",
    "    nz = np.nonzero(counts)[0]\n",
    "    return nz + smin, 1 - wdl[nz]"
   ]
  },
  {
   "cell_type": "code",
   "execution_count": 9,
   "id": "d0c0487f",
   "metadata": {},
   "outputs": [],
   "source": [
    "x, wdl = wdl_for_score(clipped, results)"
   ]
  },
  {
   "cell_type": "code",
   "execution_count": 10,
   "id": "b73f5532",
   "metadata": {},
   "outputs": [
    {
     "data": {
      "text/plain": [
       "(-2500.0, 2500.0)"
      ]
     },
     "execution_count": 10,
     "metadata": {},
     "output_type": "execute_result"
    },
    {
     "data": {
      "image/png": "[encoded data removed]",
      "text/plain": [
       "<Figure size 640x480 with 1 Axes>"
      ]
     },
     "metadata": {},
     "output_type": "display_data"
    }
   ],
   "source": [
    "plt.plot(x, wdl, '.')\n",
    "plt.xlim(-2500, 2500)"
   ]
  },
  {
   "cell_type": "code",
   "execution_count": 11,
   "id": "6e3c8f70",
   "metadata": {},
   "outputs": [],
   "source": [
    "def sigmoid(x):\n",
    "    return 1 / (1 + np.exp(-x))"
   ]
  },
  {
   "cell_type": "code",
   "execution_count": 12,
   "id": "f64f840a",
   "metadata": {},
   "outputs": [],
   "source": [
    "class Model:\n",
    "    def __init__(self, theta0):\n",
    "        self.theta = theta0\n",
    "        \n",
    "    def forward(self, x, y):\n",
    "        self.x = x\n",
    "        self.out = sigmoid(x * self.theta)\n",
    "        self.diff = self.out - y\n",
    "        self.loss = np.sum(self.diff ** 2) / len(x)\n",
    "        return self.out, self.loss\n",
    "    \n",
    "    def backward(self):\n",
    "        self.grad = np.dot(2 * self.diff * self.out * (1 - self.out), self.x)\n",
    "        self.grad /= len(self.x)"
   ]
  },
  {
   "cell_type": "code",
   "execution_count": 13,
   "id": "127022d7",
   "metadata": {},
   "outputs": [],
   "source": [
    "model = Model(1/162)"
   ]
  },
  {
   "cell_type": "code",
   "execution_count": 14,
   "id": "4cc5405c",
   "metadata": {},
   "outputs": [
    {
     "data": {
      "text/plain": [
       "0.0005688690702526704"
      ]
     },
     "execution_count": 14,
     "metadata": {},
     "output_type": "execute_result"
    }
   ],
   "source": [
    "y, loss = model.forward(x, wdl)\n",
    "loss"
   ]
  },
  {
   "cell_type": "code",
   "execution_count": 24,
   "id": "7dcdd09c",
   "metadata": {},
   "outputs": [
    {
     "data": {
      "text/plain": [
       "[<matplotlib.lines.Line2D at 0x18cb9dfbb90>,\n",
       " <matplotlib.lines.Line2D at 0x18cb9e0aa50>]"
      ]
     },
     "execution_count": 24,
     "metadata": {},
     "output_type": "execute_result"
    },
    {
     "data": {
      "image/png": "[encoded data removed]",
      "text/plain": [
       "<Figure size 640x480 with 1 Axes>"
      ]
     },
     "metadata": {},
     "output_type": "display_data"
    }
   ],
   "source": [
    "plt.plot(x, wdl, '.r', x, y, 'b')"
   ]
  },
  {
   "cell_type": "code",
   "execution_count": 23,
   "id": "90c15731",
   "metadata": {},
   "outputs": [
    {
     "data": {
      "text/plain": [
       "(0.00036491493828757154, 189.6319886819759, 0.0012056137788246134)"
      ]
     },
     "execution_count": 23,
     "metadata": {},
     "output_type": "execute_result"
    }
   ],
   "source": [
    "model.backward()\n",
    "model.theta -= model.grad * 0.001\n",
    "y, loss = model.forward(x, wdl)\n",
    "loss, 1/model.theta, model.grad"
   ]
  },
  {
   "cell_type": "code",
   "execution_count": 26,
   "id": "754bae40",
   "metadata": {},
   "outputs": [
    {
     "data": {
      "text/plain": [
       "146.68783871766442"
      ]
     },
     "execution_count": 26,
     "metadata": {},
     "output_type": "execute_result"
    }
   ],
   "source": [
    "1 / model.theta"
   ]
  },
  {
   "cell_type": "code",
   "execution_count": null,
   "id": "6fc5f601",
   "metadata": {},
   "outputs": [],
   "source": []
  }
 ],
 "metadata": {
  "kernelspec": {
   "display_name": "Python 3 (ipykernel)",
   "language": "python",
   "name": "python3"
  },
  "language_info": {
   "codemirror_mode": {
    "name": "ipython",
    "version": 3
   },
   "file_extension": ".py",
   "mimetype": "text/x-python",
   "name": "python",
   "nbconvert_exporter": "python",
   "pygments_lexer": "ipython3",
   "version": "3.11.5"
  }
 },
 "nbformat": 4,
 "nbformat_minor": 5
}
