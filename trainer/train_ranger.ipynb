{
 "cells": [
  {
   "cell_type": "code",
   "execution_count": 1,
   "id": "334671e8",
   "metadata": {},
   "outputs": [],
   "source": [
    "import ffi\n",
    "from model import *\n",
    "from halfkp import *\n",
    "import os\n",
    "import torch\n",
    "import numpy as np\n",
    "import matplotlib.pyplot as plt\n",
    "from tqdm.auto import tqdm, trange"
   ]
  },
  {
   "cell_type": "code",
   "execution_count": 2,
   "id": "5fb9e136",
   "metadata": {},
   "outputs": [],
   "source": [
    "class EMA:\n",
    "    def __init__(self, initial=None, k=0.1):\n",
    "        self.value = initial\n",
    "        self.k = k\n",
    "\n",
    "    def update(self, x):\n",
    "        if self.value is None:\n",
    "            self.value = x\n",
    "        else:\n",
    "            self.value = (1 - self.k) * self.value + self.k * x"
   ]
  },
  {
   "cell_type": "code",
   "execution_count": 3,
   "id": "8ddfc693",
   "metadata": {},
   "outputs": [],
   "source": [
    "ffi.load_module('../satpymod/build/Release/satpymod.dll')"
   ]
  },
  {
   "cell_type": "code",
   "execution_count": 4,
   "id": "2122b901",
   "metadata": {},
   "outputs": [],
   "source": [
    "batch_size = 32*1024\n",
    "device = torch.device('cuda')\n",
    "n_prefetch = 4\n",
    "n_virtual = False\n",
    "\n",
    "experiment_name = 'd6nnv3_ranger21'\n",
    "weight_folder = experiment_name\n",
    "os.makedirs(weight_folder, exist_ok=True)"
   ]
  },
  {
   "cell_type": "code",
   "execution_count": 5,
   "id": "54e0b009",
   "metadata": {},
   "outputs": [],
   "source": [
    "stream = ffi.BatchStream('data/d6NNv3_100mil.bin', n_prefetch, batch_size, n_virtual)"
   ]
  },
  {
   "cell_type": "code",
   "execution_count": 6,
   "id": "1f554c0a",
   "metadata": {},
   "outputs": [],
   "source": [
    "model = Model(N_FT + N_VIRT_FT*n_virtual).to(device)"
   ]
  },
  {
   "cell_type": "code",
   "execution_count": 7,
   "id": "8e2da36d",
   "metadata": {},
   "outputs": [
    {
     "data": {
      "text/plain": [
       "<All keys matched successfully>"
      ]
     },
     "execution_count": 7,
     "metadata": {},
     "output_type": "execute_result"
    }
   ],
   "source": [
    "model.load_state_dict(torch.load(f'd6nnv3_ranger21/first session/net_99.pt')) # from the first session"
   ]
  },
  {
   "cell_type": "code",
   "execution_count": 8,
   "id": "2154cb3b",
   "metadata": {},
   "outputs": [],
   "source": [
    "from ranger21 import Ranger21"
   ]
  },
  {
   "cell_type": "code",
   "execution_count": 9,
   "id": "3eeac457",
   "metadata": {},
   "outputs": [],
   "source": [
    "total = 0\n",
    "n_epochs = 100\n",
    "n_iters_per_epoch = 4658//2\n",
    "mean_loss = 0"
   ]
  },
  {
   "cell_type": "code",
   "execution_count": 10,
   "id": "bd039941",
   "metadata": {},
   "outputs": [
    {
     "name": "stdout",
     "output_type": "stream",
     "text": [
      "Ranger21 optimizer ready with following settings:\n",
      "\n",
      "Core optimizer = AdamW\n",
      "Learning rate of 0.0001\n",
      "\n",
      "Important - num_epochs of training = ** 100 epochs **\n",
      "please confirm this is correct or warmup and warmdown will be off\n",
      "\n",
      "Warm-up: linear warmup, over 2000 iterations\n",
      "\n",
      "Lookahead active, merging every 5 steps, with blend factor of 0.5\n",
      "Norm Loss active, factor = 0.0001\n",
      "Stable weight decay of 0.0001\n",
      "Gradient Centralization = On\n",
      "\n",
      "Adaptive Gradient Clipping = True\n",
      "\tclipping value of 0.01\n",
      "\tsteps for clipping = 0.001\n",
      "\n",
      "Warm-down: Linear warmdown, starting at 50.0%, iteration 116450 of 232900\n",
      "warm down will decay until 1e-06 lr\n"
     ]
    }
   ],
   "source": [
    "opt = Ranger21(model.parameters(), lr=1e-4, betas=(.9, 0.999), eps=1.0e-7, using_gc=True,\n",
    "              num_epochs=n_epochs, num_batches_per_epoch=n_iters_per_epoch, \n",
    "               warmdown_start_pct=0.5, warmdown_min_lr=1e-6)"
   ]
  },
  {
   "cell_type": "code",
   "execution_count": 11,
   "id": "c65e8a05",
   "metadata": {},
   "outputs": [],
   "source": [
    "ema_loss = EMA()\n",
    "losses = []\n",
    "ema_losses = []\n",
    "mean_loss = 0\n",
    "total = 0\n",
    "lambda_ = 1"
   ]
  },
  {
   "cell_type": "code",
   "execution_count": null,
   "id": "86303da2",
   "metadata": {},
   "outputs": [
    {
     "data": {
      "application/vnd.jupyter.widget-view+json": {
       "model_id": "403d00a7a3f14ff8950bf771d3521194",
       "version_major": 2,
       "version_minor": 0
      },
      "text/plain": [
       "  0%|          | 0/100 [00:00<?, ?it/s]"
      ]
     },
     "metadata": {},
     "output_type": "display_data"
    },
    {
     "data": {
      "application/vnd.jupyter.widget-view+json": {
       "model_id": "a74da285244440f1ae3ca108fe3919bc",
       "version_major": 2,
       "version_minor": 0
      },
      "text/plain": [
       "0it [00:00, ?it/s]"
      ]
     },
     "metadata": {},
     "output_type": "display_data"
    },
    {
     "name": "stdout",
     "output_type": "stream",
     "text": [
      "params size saved\n",
      "total param groups = 1\n",
      "total params in groups = 8\n",
      "\n",
      "** Ranger21 update = Warmup complete - lr set to 0.0001\n",
      "\n"
     ]
    },
    {
     "data": {
      "application/vnd.jupyter.widget-view+json": {
       "model_id": "d994429bff2b468e9e6d7fcb3e869561",
       "version_major": 2,
       "version_minor": 0
      },
      "text/plain": [
       "  0%|          | 0/2329 [00:00<?, ?it/s]"
      ]
     },
     "metadata": {},
     "output_type": "display_data"
    },
    {
     "data": {
      "application/vnd.jupyter.widget-view+json": {
       "model_id": "defc5acca12c47948097f96f68abdaec",
       "version_major": 2,
       "version_minor": 0
      },
      "text/plain": [
       "  0%|          | 0/2329 [00:00<?, ?it/s]"
      ]
     },
     "metadata": {},
     "output_type": "display_data"
    },
    {
     "data": {
      "application/vnd.jupyter.widget-view+json": {
       "model_id": "be3674be0683449b84a7ed82a1e55b1d",
       "version_major": 2,
       "version_minor": 0
      },
      "text/plain": [
       "  0%|          | 0/2329 [00:00<?, ?it/s]"
      ]
     },
     "metadata": {},
     "output_type": "display_data"
    },
    {
     "data": {
      "application/vnd.jupyter.widget-view+json": {
       "model_id": "6ec459fb541847dcad5135e82f4b7955",
       "version_major": 2,
       "version_minor": 0
      },
      "text/plain": [
       "  0%|          | 0/2329 [00:00<?, ?it/s]"
      ]
     },
     "metadata": {},
     "output_type": "display_data"
    },
    {
     "data": {
      "application/vnd.jupyter.widget-view+json": {
       "model_id": "132a26bbc87845388d4735f4389d3a7c",
       "version_major": 2,
       "version_minor": 0
      },
      "text/plain": [
       "  0%|          | 0/2329 [00:00<?, ?it/s]"
      ]
     },
     "metadata": {},
     "output_type": "display_data"
    },
    {
     "data": {
      "application/vnd.jupyter.widget-view+json": {
       "model_id": "83a37adeb1c24fc2b9a32661a0a6a24f",
       "version_major": 2,
       "version_minor": 0
      },
      "text/plain": [
       "  0%|          | 0/2329 [00:00<?, ?it/s]"
      ]
     },
     "metadata": {},
     "output_type": "display_data"
    },
    {
     "data": {
      "application/vnd.jupyter.widget-view+json": {
       "model_id": "cd0c3d270d124e35bfcfc0de8eb55af4",
       "version_major": 2,
       "version_minor": 0
      },
      "text/plain": [
       "  0%|          | 0/2329 [00:00<?, ?it/s]"
      ]
     },
     "metadata": {},
     "output_type": "display_data"
    },
    {
     "data": {
      "application/vnd.jupyter.widget-view+json": {
       "model_id": "e8236fff408240f78da0793bafa91dc2",
       "version_major": 2,
       "version_minor": 0
      },
      "text/plain": [
       "  0%|          | 0/2329 [00:00<?, ?it/s]"
      ]
     },
     "metadata": {},
     "output_type": "display_data"
    },
    {
     "data": {
      "application/vnd.jupyter.widget-view+json": {
       "model_id": "0938b4fa90734d03af576885ba3b35f5",
       "version_major": 2,
       "version_minor": 0
      },
      "text/plain": [
       "  0%|          | 0/2329 [00:00<?, ?it/s]"
      ]
     },
     "metadata": {},
     "output_type": "display_data"
    },
    {
     "data": {
      "application/vnd.jupyter.widget-view+json": {
       "model_id": "eec8f33bf26b4eb28d9fe04b7397815e",
       "version_major": 2,
       "version_minor": 0
      },
      "text/plain": [
       "  0%|          | 0/2329 [00:00<?, ?it/s]"
      ]
     },
     "metadata": {},
     "output_type": "display_data"
    },
    {
     "data": {
      "application/vnd.jupyter.widget-view+json": {
       "model_id": "88099b829cc64511a14d646f9a72360a",
       "version_major": 2,
       "version_minor": 0
      },
      "text/plain": [
       "  0%|          | 0/2329 [00:00<?, ?it/s]"
      ]
     },
     "metadata": {},
     "output_type": "display_data"
    },
    {
     "data": {
      "application/vnd.jupyter.widget-view+json": {
       "model_id": "f8ddbed0da8e4ef981958d2a8f4876fb",
       "version_major": 2,
       "version_minor": 0
      },
      "text/plain": [
       "  0%|          | 0/2329 [00:00<?, ?it/s]"
      ]
     },
     "metadata": {},
     "output_type": "display_data"
    },
    {
     "data": {
      "application/vnd.jupyter.widget-view+json": {
       "model_id": "ee82609d161f4c9ba58a59b971de8369",
       "version_major": 2,
       "version_minor": 0
      },
      "text/plain": [
       "  0%|          | 0/2329 [00:00<?, ?it/s]"
      ]
     },
     "metadata": {},
     "output_type": "display_data"
    },
    {
     "data": {
      "application/vnd.jupyter.widget-view+json": {
       "model_id": "404aacad8fdc414fa367166bb01cdb97",
       "version_major": 2,
       "version_minor": 0
      },
      "text/plain": [
       "  0%|          | 0/2329 [00:00<?, ?it/s]"
      ]
     },
     "metadata": {},
     "output_type": "display_data"
    },
    {
     "data": {
      "application/vnd.jupyter.widget-view+json": {
       "model_id": "35f983bd9d174464b0779f753d198f49",
       "version_major": 2,
       "version_minor": 0
      },
      "text/plain": [
       "  0%|          | 0/2329 [00:00<?, ?it/s]"
      ]
     },
     "metadata": {},
     "output_type": "display_data"
    },
    {
     "data": {
      "application/vnd.jupyter.widget-view+json": {
       "model_id": "f02080b3c4fc4397aefdad87baf70409",
       "version_major": 2,
       "version_minor": 0
      },
      "text/plain": [
       "  0%|          | 0/2329 [00:00<?, ?it/s]"
      ]
     },
     "metadata": {},
     "output_type": "display_data"
    }
   ],
   "source": [
    "for epoch in (te := trange(n_epochs)):\n",
    "    t = tqdm(total=total if epoch else None)\n",
    "    k = 0\n",
    "    while True:\n",
    "        batch = stream.next_batch()\n",
    "        if batch is None:\n",
    "            t.close()\n",
    "            break\n",
    "        wft_ics, wft_vals, bft_ics, bft_vals, stm, score, result = batch.to_torch(device)\n",
    "\n",
    "        pred = model(wft_ics, wft_vals, bft_ics, bft_vals, stm)\n",
    "        loss = compute_loss(pred, score, result, lambda_)\n",
    "\n",
    "        opt.zero_grad(set_to_none=True)\n",
    "        loss.backward()\n",
    "        opt.step()\n",
    "        model._clip_weights()\n",
    "        losses.append(loss.item())\n",
    "        ema_loss.update(loss.item())\n",
    "        ema_losses.append(ema_loss.value)\n",
    "\n",
    "        t.set_description(f'epoch {epoch} BL {ema_loss.value:.6f} EL {mean_loss:.6f} L {lambda_:.2f}')\n",
    "        t.update()\n",
    "        k += 1\n",
    "    mean_loss = np.mean(losses[-k:])\n",
    "    te.set_description(f'epoch {epoch} mean_loss {mean_loss:.6f} L {lambda_:.2f}')\n",
    "    total = max(k, total)\n",
    "    \n",
    "    if epoch % 10 == 0 or epoch + 1 == n_epochs:\n",
    "        torch.save(model.state_dict(), f'{weight_folder}/net_{epoch}.pt')"
   ]
  },
  {
   "cell_type": "code",
   "execution_count": 16,
   "id": "2b769e69",
   "metadata": {},
   "outputs": [
    {
     "data": {
      "text/plain": [
       "[<matplotlib.lines.Line2D at 0x26e34442550>]"
      ]
     },
     "execution_count": 16,
     "metadata": {},
     "output_type": "execute_result"
    },
    {
     "data": {
      "image/png": "[encoded data removed]",
      "text/plain": [
       "<Figure size 640x480 with 1 Axes>"
      ]
     },
     "metadata": {},
     "output_type": "display_data"
    }
   ],
   "source": [
    "plt.plot(np.arange(len(losses)), losses)"
   ]
  },
  {
   "cell_type": "code",
   "execution_count": null,
   "id": "3b85d029",
   "metadata": {},
   "outputs": [],
   "source": []
  }
 ],
 "metadata": {
  "kernelspec": {
   "display_name": "Python 3 (ipykernel)",
   "language": "python",
   "name": "python3"
  },
  "language_info": {
   "codemirror_mode": {
    "name": "ipython",
    "version": 3
   },
   "file_extension": ".py",
   "mimetype": "text/x-python",
   "name": "python",
   "nbconvert_exporter": "python",
   "pygments_lexer": "ipython3",
   "version": "3.11.5"
  }
 },
 "nbformat": 4,
 "nbformat_minor": 5
}
