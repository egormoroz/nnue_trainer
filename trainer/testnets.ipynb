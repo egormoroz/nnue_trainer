{
 "cells": [
  {
   "cell_type": "code",
   "execution_count": 1,
   "id": "bf6fa0bd",
   "metadata": {},
   "outputs": [],
   "source": [
    "import subprocess\n",
    "import os\n",
    "import glob\n",
    "import dataclasses\n",
    "from serialize import serialize_cli"
   ]
  },
  {
   "cell_type": "code",
   "execution_count": 2,
   "id": "509e9bb3",
   "metadata": {},
   "outputs": [],
   "source": [
    "@dataclasses.dataclass\n",
    "class Config:\n",
    "    cli = 'C:\\\\Soft\\\\cutechess-1.3.1-win64\\\\cutechess-cli.exe'\n",
    "    \n",
    "    tt_size = 16\n",
    "    concurrency = 8\n",
    "    nodes = 50000\n",
    "    n_rounds = 400\n",
    "    pgn_out = None\n",
    "    openings = 'openings/openings-6ply-1000.pgn'\n",
    "    \n",
    "    rating_interval = None\n",
    "    tc_str = '10+0.1'\n",
    "    \n",
    "    base_conf = 'saturn_latest'"
   ]
  },
  {
   "cell_type": "code",
   "execution_count": 22,
   "id": "3c8af781",
   "metadata": {},
   "outputs": [
    {
     "data": {
      "text/plain": [
       "[0, 2]"
      ]
     },
     "execution_count": 22,
     "metadata": {},
     "output_type": "execute_result"
    }
   ],
   "source": [
    "list(range(10))[:4][::2]"
   ]
  },
  {
   "cell_type": "code",
   "execution_count": 7,
   "id": "605dff89",
   "metadata": {},
   "outputs": [],
   "source": [
    "def run_test(net_folder, n_latest, config: Config, reserialize=False, net_step=1):\n",
    "    pt_nets = glob.glob(f'{net_folder}/*.pt')\n",
    "    pt_nets.sort(key=os.path.getmtime, reverse=True)\n",
    "    pt_nets = pt_nets[::net_step][:n_latest]\n",
    "    nnue_nets = []\n",
    "    for pt_net in pt_nets:\n",
    "        net_name = os.path.basename(pt_net).removesuffix('.pt')\n",
    "        net_path = f'{net_folder}/{net_name}.nnue'\n",
    "        if reserialize or not os.path.isfile(net_path):\n",
    "            serialize_cli(pt_net, net_path)\n",
    "        nnue_nets.append((net_name, net_path))\n",
    "        \n",
    "    args = [config.cli, '-tournament', 'gauntlet']\n",
    "    args += ['-concurrency', f'{config.concurrency}']\n",
    "    if config.pgn_out:\n",
    "        args += ['-pgnout', config.pgn_out]\n",
    "    args += ['-draw', 'movenumber=40', 'movecount=4', 'score=10']\n",
    "    args += ['-resign', 'movecount=4', 'score=500']\n",
    "    args += ['-each', f'tc={config.tc_str}', f'nodes={config.nodes}', 'proto=uci', f'option.Hash={config.tt_size}']\n",
    "    args += ['-openings', f'file={config.openings}', 'policy=round']\n",
    "    args += ['-repeat', '-games', '2', '-rounds', f'{config.n_rounds}']\n",
    "    if config.rating_interval:\n",
    "        args += ['-ratinginterval', f'{config.rating_interval}']\n",
    "#     args += ['-resultformat', 'concise']\n",
    "\n",
    "    args += ['-engine', f'conf={config.base_conf}', 'name=master']\n",
    "    \n",
    "    for name, path in nnue_nets:\n",
    "        path = os.path.abspath(path)\n",
    "        args += ['-engine', f'conf={config.base_conf}', f'name={name}', \n",
    "                 f'option.evalfile={path}']\n",
    "    return args"
   ]
  },
  {
   "cell_type": "code",
   "execution_count": 73,
   "id": "b58b2a87",
   "metadata": {},
   "outputs": [],
   "source": [
    "process = subprocess.Popen(args, stdout=subprocess.PIPE, stderr=subprocess.STDOUT)\n",
    "cli_out = open('cli.out', 'w')\n",
    "results = {}\n",
    "result_output = False\n",
    "for line in process.stdout:\n",
    "    line = line.decode('utf-8')\n",
    "    cli_out.write(line.strip() + '\\n')\n",
    "    \n",
    "    if n_players == 2 and line.startswith('Elo'):\n",
    "        vals = line.split()\n",
    "        elo, error = float(vals[2]), float(vals[4][:-1])\n",
    "        results[net_name] = (-elo, error)\n",
    "    \n",
    "    if n_players > 2 and line.startswith('Rank'):\n",
    "        result_output = True\n",
    "        continue\n",
    "    \n",
    "    if n_players > 2 and result_output:\n",
    "        vals = line.split()\n",
    "        rank, name, elo, error = float(vals[0]), vals[1], float(vals[2]), int(vals[3])\n",
    "        results[name] = (elo, error)\n",
    "        if rank + 1 == n_players:\n",
    "            result_output = False\n",
    "cli_out.close()"
   ]
  },
  {
   "cell_type": "code",
   "execution_count": 74,
   "id": "10e29ed5",
   "metadata": {},
   "outputs": [
    {
     "data": {
      "text/plain": [
       "{'eblan_all': (-190.8, 451.9)}"
      ]
     },
     "execution_count": 74,
     "metadata": {},
     "output_type": "execute_result"
    }
   ],
   "source": [
    "results"
   ]
  },
  {
   "cell_type": "code",
   "execution_count": 3,
   "id": "fa792284",
   "metadata": {},
   "outputs": [],
   "source": [
    "pt_nets = glob.glob('d6nnv3/*.pt')"
   ]
  },
  {
   "cell_type": "code",
   "execution_count": 4,
   "id": "42c80c99",
   "metadata": {},
   "outputs": [
    {
     "data": {
      "text/plain": [
       "['d6nnv3\\\\net_0.pt',\n",
       " 'd6nnv3\\\\net_10.pt',\n",
       " 'd6nnv3\\\\net_100.pt',\n",
       " 'd6nnv3\\\\net_110.pt',\n",
       " 'd6nnv3\\\\net_120.pt',\n",
       " 'd6nnv3\\\\net_130.pt',\n",
       " 'd6nnv3\\\\net_140.pt',\n",
       " 'd6nnv3\\\\net_150.pt',\n",
       " 'd6nnv3\\\\net_20.pt',\n",
       " 'd6nnv3\\\\net_30.pt',\n",
       " 'd6nnv3\\\\net_40.pt',\n",
       " 'd6nnv3\\\\net_50.pt',\n",
       " 'd6nnv3\\\\net_60.pt',\n",
       " 'd6nnv3\\\\net_70.pt',\n",
       " 'd6nnv3\\\\net_80.pt',\n",
       " 'd6nnv3\\\\net_90.pt']"
      ]
     },
     "execution_count": 4,
     "metadata": {},
     "output_type": "execute_result"
    }
   ],
   "source": [
    "pt_nets"
   ]
  },
  {
   "cell_type": "code",
   "execution_count": 97,
   "id": "76204278",
   "metadata": {},
   "outputs": [
    {
     "data": {
      "text/plain": [
       "'net_19.pt'"
      ]
     },
     "execution_count": 97,
     "metadata": {},
     "output_type": "execute_result"
    }
   ],
   "source": [
    "os.path.basename(pt_nets[0])"
   ]
  },
  {
   "cell_type": "code",
   "execution_count": 5,
   "id": "01272f55",
   "metadata": {},
   "outputs": [],
   "source": [
    "config = Config()\n",
    "config.tt_size = 16\n",
    "config.nodes = 75000\n",
    "config.tc_str = '3600'\n",
    "config.rating_interval = 20\n",
    "config.concurrency = 16\n",
    "config.pgn_out = 'pgns/d6nnv2_75knodes.pgn'"
   ]
  },
  {
   "cell_type": "code",
   "execution_count": 10,
   "id": "fd0d9772",
   "metadata": {},
   "outputs": [
    {
     "name": "stdout",
     "output_type": "stream",
     "text": [
      "C:\\Soft\\cutechess-1.3.1-win64\\cutechess-cli.exe -tournament gauntlet -concurrency 16 -pgnout pgns/d6nnv2_75knodes.pgn -draw movenumber=40 movecount=4 score=10 -resign movecount=4 score=500 -each tc=3600 nodes=75000 proto=uci option.Hash=16 -openings file=openings/openings-6ply-1000.pgn policy=round -repeat -games 2 -rounds 400 -ratinginterval 20 -engine conf=saturn_latest name=master -engine conf=saturn_latest name=net_190 option.evalfile=C:\\Users\\aitaz\\Documents\\saturn\\trainer\\d6nnv3\\net_190.nnue -engine conf=saturn_latest name=net_170 option.evalfile=C:\\Users\\aitaz\\Documents\\saturn\\trainer\\d6nnv3\\net_170.nnue -engine conf=saturn_latest name=net_150 option.evalfile=C:\\Users\\aitaz\\Documents\\saturn\\trainer\\d6nnv3\\net_150.nnue\n"
     ]
    }
   ],
   "source": [
    "print(' '.join(run_test('d6nnv3', 3, config, net_step=2)))"
   ]
  },
  {
   "cell_type": "code",
   "execution_count": 40,
   "id": "988073e1",
   "metadata": {},
   "outputs": [],
   "source": [
    "serialize_cli('d6nnv2_x2data_wdl/net_10.pt', 'd6nnv2_x2data_wdl/net_10.nnue')"
   ]
  },
  {
   "cell_type": "code",
   "execution_count": null,
   "id": "27886915",
   "metadata": {},
   "outputs": [],
   "source": []
  }
 ],
 "metadata": {
  "kernelspec": {
   "display_name": "Python 3 (ipykernel)",
   "language": "python",
   "name": "python3"
  },
  "language_info": {
   "codemirror_mode": {
    "name": "ipython",
    "version": 3
   },
   "file_extension": ".py",
   "mimetype": "text/x-python",
   "name": "python",
   "nbconvert_exporter": "python",
   "pygments_lexer": "ipython3",
   "version": "3.11.5"
  }
 },
 "nbformat": 4,
 "nbformat_minor": 5
}
